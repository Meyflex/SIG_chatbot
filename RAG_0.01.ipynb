{
 "cells": [
  {
   "cell_type": "code",
   "execution_count": 1,
   "id": "7ed8e7d8-bf8d-4df1-8e65-25d90bd7621b",
   "metadata": {},
   "outputs": [],
   "source": [
    "import pandas as pd\n",
    "from transformers import AutoTokenizer, AutoModelForCausalLM"
   ]
  },
  {
   "cell_type": "code",
   "execution_count": 74,
   "id": "81148763-e571-4a52-af8d-031694363d3a",
   "metadata": {},
   "outputs": [],
   "source": [
    "model_id = \"mistralai/Mixtral-8x7B-Instruct-v0.1\""
   ]
  },
  {
   "cell_type": "code",
   "execution_count": 91,
   "id": "6f3c0fc1-e604-4d0c-af78-00667a221683",
   "metadata": {},
   "outputs": [
    {
     "data": {
      "text/html": [
       "<div>\n",
       "<style scoped>\n",
       "    .dataframe tbody tr th:only-of-type {\n",
       "        vertical-align: middle;\n",
       "    }\n",
       "\n",
       "    .dataframe tbody tr th {\n",
       "        vertical-align: top;\n",
       "    }\n",
       "\n",
       "    .dataframe thead th {\n",
       "        text-align: right;\n",
       "    }\n",
       "</style>\n",
       "<table border=\"1\" class=\"dataframe\">\n",
       "  <thead>\n",
       "    <tr style=\"text-align: right;\">\n",
       "      <th></th>\n",
       "      <th>Code</th>\n",
       "      <th>Description</th>\n",
       "      <th>Lien</th>\n",
       "      <th>Detail</th>\n",
       "      <th>Flag</th>\n",
       "      <th>DescriptionDetail</th>\n",
       "    </tr>\n",
       "  </thead>\n",
       "  <tbody>\n",
       "    <tr>\n",
       "      <th>0</th>\n",
       "      <td>Code</td>\n",
       "      <td>Description</td>\n",
       "      <td>Lien</td>\n",
       "      <td>Detail</td>\n",
       "      <td>Flag</td>\n",
       "      <td>Description - Detail</td>\n",
       "    </tr>\n",
       "    <tr>\n",
       "      <th>1</th>\n",
       "      <td>ARC-100</td>\n",
       "      <td>Ajout d’une ligne dans la table tampon de l’ar...</td>\n",
       "      <td>NaN</td>\n",
       "      <td>Cette opération permet d'ajouter une ligne dan...</td>\n",
       "      <td>x</td>\n",
       "      <td>Ajout d’une ligne dans la table tampon de l’ar...</td>\n",
       "    </tr>\n",
       "    <tr>\n",
       "      <th>2</th>\n",
       "      <td>ARC-101</td>\n",
       "      <td>Retrait de lignes dans la table tampon de l’ar...</td>\n",
       "      <td>NaN</td>\n",
       "      <td>Ce traitement permet de supprimer des lignes d...</td>\n",
       "      <td>x</td>\n",
       "      <td>Retrait de lignes dans la table tampon de l’ar...</td>\n",
       "    </tr>\n",
       "    <tr>\n",
       "      <th>3</th>\n",
       "      <td>ARC-110</td>\n",
       "      <td>Recherche d’éléments dans la table d’archivage...</td>\n",
       "      <td>NaN</td>\n",
       "      <td>Cette opération permet de rechercher des ident...</td>\n",
       "      <td>x</td>\n",
       "      <td>Recherche d’éléments dans la table d’archivage...</td>\n",
       "    </tr>\n",
       "    <tr>\n",
       "      <th>4</th>\n",
       "      <td>ARC-120</td>\n",
       "      <td>Suppression d’éléments dans la table d’archiva...</td>\n",
       "      <td>NaN</td>\n",
       "      <td>Cette opération permet de supprimer les identi...</td>\n",
       "      <td>x</td>\n",
       "      <td>Suppression d’éléments dans la table d’archiva...</td>\n",
       "    </tr>\n",
       "  </tbody>\n",
       "</table>\n",
       "</div>"
      ],
      "text/plain": [
       "      Code                                        Description  Lien  \\\n",
       "0     Code                                        Description  Lien   \n",
       "1  ARC-100  Ajout d’une ligne dans la table tampon de l’ar...   NaN   \n",
       "2  ARC-101  Retrait de lignes dans la table tampon de l’ar...   NaN   \n",
       "3  ARC-110  Recherche d’éléments dans la table d’archivage...   NaN   \n",
       "4  ARC-120  Suppression d’éléments dans la table d’archiva...   NaN   \n",
       "\n",
       "                                              Detail  Flag  \\\n",
       "0                                             Detail  Flag   \n",
       "1  Cette opération permet d'ajouter une ligne dan...     x   \n",
       "2  Ce traitement permet de supprimer des lignes d...     x   \n",
       "3  Cette opération permet de rechercher des ident...     x   \n",
       "4  Cette opération permet de supprimer les identi...     x   \n",
       "\n",
       "                                   DescriptionDetail  \n",
       "0                               Description - Detail  \n",
       "1  Ajout d’une ligne dans la table tampon de l’ar...  \n",
       "2  Retrait de lignes dans la table tampon de l’ar...  \n",
       "3  Recherche d’éléments dans la table d’archivage...  \n",
       "4  Suppression d’éléments dans la table d’archiva...  "
      ]
     },
     "execution_count": 91,
     "metadata": {},
     "output_type": "execute_result"
    }
   ],
   "source": [
    "data_path = 'niagara.csv'\n",
    "\n",
    "data = pd.read_csv(data_path, sep=';', header=None, names=['Code', 'Description', 'Lien', 'Detail', 'Flag'], on_bad_lines='skip')\n",
    "data['DescriptionDetail'] = data['Description'] + \" - \" + data['Detail']\n",
    "\n",
    "data.head()"
   ]
  },
  {
   "cell_type": "code",
   "execution_count": 98,
   "id": "dcd34c4f-43a7-4775-8fa9-83dc68ca03a5",
   "metadata": {},
   "outputs": [],
   "source": [
    "code_to_description_detail = pd.Series(data.DescriptionDetail.values, index=data.Code).to_dict()\n"
   ]
  },
  {
   "cell_type": "code",
   "execution_count": 99,
   "id": "edc69708-78d3-477a-b53b-6560234c5350",
   "metadata": {},
   "outputs": [
    {
     "data": {
      "application/vnd.jupyter.widget-view+json": {
       "model_id": "9cd9eadb52ab4d93b1807b11bc9e3aae",
       "version_major": 2,
       "version_minor": 0
      },
      "text/plain": [
       "Loading checkpoint shards:   0%|          | 0/19 [00:00<?, ?it/s]"
      ]
     },
     "metadata": {},
     "output_type": "display_data"
    }
   ],
   "source": [
    "tokenizer = AutoTokenizer.from_pretrained(model_id)\n",
    "model = AutoModelForCausalLM.from_pretrained(model_id)"
   ]
  },
  {
   "cell_type": "code",
   "execution_count": 100,
   "id": "77289985-fa63-4679-acd8-c6729162405f",
   "metadata": {},
   "outputs": [],
   "source": [
    "def extract_code_from_question(question):\n",
    "    # Implémentez votre logique d'extraction de code ici\n",
    "    # Ceci est un exemple simplifié\n",
    "    code = question.split()[-1].rstrip('?')\n",
    "    return code"
   ]
  },
  {
   "cell_type": "code",
   "execution_count": 101,
   "id": "29a3e695-bb78-44cd-9d52-8dc8ec0ecc34",
   "metadata": {},
   "outputs": [],
   "source": [
    "def generate_answer(question):\n",
    "    # Extraire le code à partir de la question posée\n",
    "    code = extract_code_from_question(question)\n",
    "    \n",
    "    # Obtenir la description associée au code, sinon retourner une réponse par défaut\n",
    "    description = code_to_description.get(code, \"Je ne suis pas sûr de la documentation pour ce code.\")\n",
    "    \n",
    "    # Construire une nouvelle entrée pour le modèle qui intègre à la fois le code et la description\n",
    "    # pour fournir plus de contexte. Cela peut aider le modèle à générer une réponse plus riche et plus ciblée.\n",
    "    prompt = f\"Code: {code}\\nDescription: {description}\\nGénérer une explication détaillée basée sur le code et la description fournis:\"\n",
    "    \n",
    "    # Encoder le prompt pour le modèle\n",
    "    inputs = tokenizer.encode(prompt, return_tensors=\"pt\")\n",
    "    \n",
    "    # Utiliser le modèle pour générer une sortie basée sur le prompt encodé\n",
    "    outputs = model.generate(inputs, max_new_tokens=50, num_return_sequences=1, pad_token_id=tokenizer.eos_token_id)\n",
    "    \n",
    "    # Décoder la sortie générée en texte lisible\n",
    "    generated_text = tokenizer.decode(outputs[0], skip_special_tokens=True)\n",
    "    \n",
    "    # Optionnellement, vous pouvez nettoyer la sortie générée pour retirer le prompt initial de la réponse\n",
    "    clean_response = generated_text.replace(prompt, \"\").strip()\n",
    "    \n",
    "    return clean_response\n",
    "\n",
    "# Supposons que vous ayez déjà défini `extract_code_from_question` et `code_to_description` précédemment\n"
   ]
  },
  {
   "cell_type": "code",
   "execution_count": null,
   "id": "1cf628f5-8119-4b61-8be6-f736c8851366",
   "metadata": {},
   "outputs": [],
   "source": [
    "question = \"Quelle est la fonction de BATCH-FIN-600 ?\"\n",
    "response = generate_answer(question)\n",
    "print(response)"
   ]
  },
  {
   "cell_type": "code",
   "execution_count": null,
   "id": "8e83474d-3a8d-46f1-bb27-64dbf4392dbf",
   "metadata": {},
   "outputs": [],
   "source": [
    "code_to_description.get(\"BATCH-FIN-600\")"
   ]
  },
  {
   "cell_type": "code",
   "execution_count": null,
   "id": "a2dd530e-6015-4d9f-ac4a-c782e3523ecb",
   "metadata": {},
   "outputs": [],
   "source": []
  },
  {
   "cell_type": "code",
   "execution_count": null,
   "id": "b840e669-ec0f-4ef3-9420-aaafa9f6eb60",
   "metadata": {},
   "outputs": [],
   "source": [
    "\n"
   ]
  },
  {
   "cell_type": "code",
   "execution_count": null,
   "id": "cb171f43-1bdd-44d1-90f0-761b7dcef71a",
   "metadata": {},
   "outputs": [],
   "source": []
  },
  {
   "cell_type": "code",
   "execution_count": null,
   "id": "11539340-24ae-412a-a759-61bc1431b648",
   "metadata": {},
   "outputs": [],
   "source": []
  }
 ],
 "metadata": {
  "kernelspec": {
   "display_name": "Python 3 (ipykernel)",
   "language": "python",
   "name": "python3"
  },
  "language_info": {
   "codemirror_mode": {
    "name": "ipython",
    "version": 3
   },
   "file_extension": ".py",
   "mimetype": "text/x-python",
   "name": "python",
   "nbconvert_exporter": "python",
   "pygments_lexer": "ipython3",
   "version": "3.8.19"
  }
 },
 "nbformat": 4,
 "nbformat_minor": 5
}
